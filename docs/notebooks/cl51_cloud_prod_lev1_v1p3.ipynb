{
 "cells": [
  {
   "cell_type": "markdown",
   "id": "a7db8de4-32c8-4fde-a87c-201dc934c185",
   "metadata": {},
   "source": [
    "# imports"
   ]
  },
  {
   "cell_type": "code",
   "execution_count": 1,
   "id": "f2c619cc-6d08-46c0-871d-ccd3f323e919",
   "metadata": {
    "execution": {
     "iopub.execute_input": "2024-01-12T22:08:35.263891Z",
     "iopub.status.busy": "2024-01-12T22:08:35.262903Z",
     "iopub.status.idle": "2024-01-12T22:08:35.334916Z",
     "shell.execute_reply": "2024-01-12T22:08:35.333828Z",
     "shell.execute_reply.started": "2024-01-12T22:08:35.263831Z"
    }
   },
   "outputs": [],
   "source": [
    "import ceilopy.ceilolab as cp\n",
    "import ceilopy.products.cl51_cloud_prod_lev1_v1p3 as cl51l1v1p3"
   ]
  },
  {
   "cell_type": "markdown",
   "id": "1ca8f54b-b20e-45fb-a758-22b2da9cfa14",
   "metadata": {},
   "source": [
    "# optional ... use a reporter"
   ]
  },
  {
   "cell_type": "code",
   "execution_count": 2,
   "id": "9edb6c49-0042-4c8e-a85c-277125ddb884",
   "metadata": {
    "execution": {
     "iopub.execute_input": "2024-01-12T22:08:35.337494Z",
     "iopub.status.busy": "2024-01-12T22:08:35.336986Z",
     "iopub.status.idle": "2024-01-12T22:08:35.345561Z",
     "shell.execute_reply": "2024-01-12T22:08:35.344901Z",
     "shell.execute_reply.started": "2024-01-12T22:08:35.337448Z"
    }
   },
   "outputs": [],
   "source": [
    "import productomator.lab as prolab"
   ]
  },
  {
   "cell_type": "code",
   "execution_count": 3,
   "id": "ee65f488-7394-4063-8a43-77649d055046",
   "metadata": {
    "execution": {
     "iopub.execute_input": "2024-01-12T22:08:35.350104Z",
     "iopub.status.busy": "2024-01-12T22:08:35.349707Z",
     "iopub.status.idle": "2024-01-12T22:08:35.397318Z",
     "shell.execute_reply": "2024-01-12T22:08:35.395577Z",
     "shell.execute_reply.started": "2024-01-12T22:08:35.350070Z"
    }
   },
   "outputs": [
    {
     "name": "stdout",
     "output_type": "stream",
     "text": [
      "start time: 2024-01-12 15:08:35.392002\n"
     ]
    }
   ],
   "source": [
    "reporter = prolab.Reporter('Cl51CloudProd', \n",
    "                           # log_folder='/export/htelg/tmp/', \n",
    "                           reporting_frequency=(6,'h'))"
   ]
  },
  {
   "cell_type": "markdown",
   "id": "609b924b-7ab4-4425-b0ad-02642c43d328",
   "metadata": {
    "execution": {
     "iopub.execute_input": "2024-01-03T15:34:30.027079Z",
     "iopub.status.busy": "2024-01-03T15:34:30.026701Z",
     "iopub.status.idle": "2024-01-03T15:34:30.032085Z",
     "shell.execute_reply": "2024-01-03T15:34:30.031286Z",
     "shell.execute_reply.started": "2024-01-03T15:34:30.027047Z"
    }
   },
   "source": [
    "# generate the instance that takes care of processing everything"
   ]
  },
  {
   "cell_type": "code",
   "execution_count": 4,
   "id": "815c9cd8-ac13-4e01-945f-266321fb4556",
   "metadata": {
    "execution": {
     "iopub.execute_input": "2024-01-12T22:08:36.810400Z",
     "iopub.status.busy": "2024-01-12T22:08:36.809771Z",
     "iopub.status.idle": "2024-01-12T22:08:36.819603Z",
     "shell.execute_reply": "2024-01-12T22:08:36.817688Z",
     "shell.execute_reply.started": "2024-01-12T22:08:36.810342Z"
    }
   },
   "outputs": [],
   "source": [
    "p2fl_in = '/nfs/grad/Inst/Ceil/SURFRAD/'\n",
    "p2fl_out = '/nfs/grad/surfrad/ceilometer/cl51_cloud_prod_lev1/v{version}'\n",
    "p2fl_quicklooks = '/nfs/grad/surfrad/quicklooks/ceilometer/cl51_cloud_prod_lev1/v{version}'\n",
    "cpp = cl51l1v1p3.Cl51CloudProdProcessor_v1p3(\n",
    "    ignore=['plots'],\n",
    "    p2fl_in=p2fl_in,\n",
    "    p2fl_out=p2fl_out,\n",
    "    p2fl_quicklooks=p2fl_quicklooks,  # comment out if not desired\n",
    "    reporter=reporter,  # comment out if not desired\n",
    ")"
   ]
  },
  {
   "cell_type": "markdown",
   "id": "c0eb7b15-aa19-4247-b370-8abc4726196b",
   "metadata": {},
   "source": [
    "# the workplan"
   ]
  },
  {
   "cell_type": "markdown",
   "id": "b06e56ff-5883-4823-b634-609f57a4b2fa",
   "metadata": {},
   "source": [
    "The workplan shows all the files that need processing. It generates the path to all output files based on all input files. When output files exist the line is removed from the workplan. If you want you can change the workplan, e.g. like this:"
   ]
  },
  {
   "cell_type": "code",
   "execution_count": 5,
   "id": "aa83327a-2e6a-4a8f-bf62-fd44935ba858",
   "metadata": {
    "execution": {
     "iopub.execute_input": "2024-01-12T22:08:40.570307Z",
     "iopub.status.busy": "2024-01-12T22:08:40.569682Z",
     "iopub.status.idle": "2024-01-12T22:10:16.658585Z",
     "shell.execute_reply": "2024-01-12T22:10:16.657423Z",
     "shell.execute_reply.started": "2024-01-12T22:08:40.570240Z"
    }
   },
   "outputs": [],
   "source": [
    "cpp.workplan = cpp.workplan.truncate(\n",
    "    '2019-01-01',\n",
    "    pd.Timestamp.now() - pd.to_timedelta(12, 'd')\n",
    ")"
   ]
  },
  {
   "cell_type": "code",
   "execution_count": 7,
   "id": "b4fb487c-e0a5-4d91-982f-9c4e46c29d05",
   "metadata": {
    "execution": {
     "iopub.execute_input": "2024-01-12T22:10:42.898438Z",
     "iopub.status.busy": "2024-01-12T22:10:42.898246Z",
     "iopub.status.idle": "2024-01-12T22:10:42.905048Z",
     "shell.execute_reply": "2024-01-12T22:10:42.904277Z",
     "shell.execute_reply.started": "2024-01-12T22:10:42.898419Z"
    }
   },
   "outputs": [
    {
     "data": {
      "text/plain": [
       "path2raw           /nfs/grad/Inst/Ceil/SURFRAD/TBL/bl/L2_06610_20...\n",
       "site                                                             tbl\n",
       "date                                             2019-01-01 00:00:00\n",
       "path2fn_out        /nfs/grad/surfrad/ceilometer/cl51_cloud_prod_l...\n",
       "path2quicklooks    /nfs/grad/surfrad/quicklooks/ceilometer/cl51_c...\n",
       "serial_no                                               201901010000\n",
       "path2althist_l2    /nfs/grad/Inst/Ceil/SURFRAD/TBL/hist/201901_CE...\n",
       "path2althist_l3    /nfs/grad/Inst/Ceil/SURFRAD/TBL/hist/201901_CE...\n",
       "Name: 2019-01-01 00:00:00, dtype: object"
      ]
     },
     "execution_count": 7,
     "metadata": {},
     "output_type": "execute_result"
    }
   ],
   "source": [
    "cpp.workplan.iloc[0]"
   ]
  },
  {
   "cell_type": "code",
   "execution_count": 11,
   "id": "52812ae7-6af3-43b5-a61e-0895deacdb85",
   "metadata": {
    "execution": {
     "iopub.execute_input": "2024-01-12T22:28:14.324989Z",
     "iopub.status.busy": "2024-01-12T22:28:14.324383Z",
     "iopub.status.idle": "2024-01-12T22:28:14.334599Z",
     "shell.execute_reply": "2024-01-12T22:28:14.333233Z",
     "shell.execute_reply.started": "2024-01-12T22:28:14.324935Z"
    }
   },
   "outputs": [
    {
     "data": {
      "text/plain": [
       "PosixPath('/nfs/grad/Inst/Ceil/SURFRAD/TBL/hist/201901_CEILOMETER_1_LEVEL_3_DEFAULT_01.his')"
      ]
     },
     "execution_count": 11,
     "metadata": {},
     "output_type": "execute_result"
    }
   ],
   "source": [
    "cpp.workplan.iloc[0].path2althist_l3"
   ]
  },
  {
   "cell_type": "markdown",
   "id": "1b8f971a-50b3-49c8-bf30-ac3eb54d7b83",
   "metadata": {},
   "source": [
    "# process"
   ]
  },
  {
   "cell_type": "code",
   "execution_count": null,
   "id": "b0f78e76-8605-4ac7-9988-b3c2affc375f",
   "metadata": {},
   "outputs": [],
   "source": [
    "the process method will..."
   ]
  },
  {
   "cell_type": "code",
   "execution_count": null,
   "id": "95d51d63-6778-423a-b293-5d86547ca8b0",
   "metadata": {},
   "outputs": [],
   "source": [
    "out = cpp.process(generate_missing_folders=True, \n",
    "              error_handling='return',\n",
    "              error_handling_missing_level3 = 'return',\n",
    "             )"
   ]
  },
  {
   "cell_type": "code",
   "execution_count": null,
   "id": "b53edc60-0210-4300-b2ea-02e29553a18a",
   "metadata": {},
   "outputs": [],
   "source": [
    "len(out['errors'])"
   ]
  },
  {
   "cell_type": "code",
   "execution_count": 88,
   "id": "f2ed9a8f-77e5-437b-b24f-ebb169643040",
   "metadata": {
    "execution": {
     "iopub.execute_input": "2024-01-03T15:32:10.418181Z",
     "iopub.status.busy": "2024-01-03T15:32:10.417631Z",
     "iopub.status.idle": "2024-01-03T15:32:10.430167Z",
     "shell.execute_reply": "2024-01-03T15:32:10.428882Z",
     "shell.execute_reply.started": "2024-01-03T15:32:10.418135Z"
    }
   },
   "outputs": [
    {
     "data": {
      "text/plain": [
       "16"
      ]
     },
     "execution_count": 88,
     "metadata": {},
     "output_type": "execute_result"
    }
   ],
   "source": [
    "len(out['errors'])"
   ]
  },
  {
   "cell_type": "code",
   "execution_count": 55,
   "id": "4bca763f-dff8-4c5a-b066-48236a6fb0a1",
   "metadata": {
    "execution": {
     "iopub.execute_input": "2023-12-28T16:54:16.571178Z",
     "iopub.status.busy": "2023-12-28T16:54:16.570803Z",
     "iopub.status.idle": "2023-12-28T16:54:16.580238Z",
     "shell.execute_reply": "2023-12-28T16:54:16.578591Z",
     "shell.execute_reply.started": "2023-12-28T16:54:16.571144Z"
    }
   },
   "outputs": [
    {
     "data": {
      "text/plain": [
       "True"
      ]
     },
     "execution_count": 55,
     "metadata": {},
     "output_type": "execute_result"
    }
   ],
   "source": [
    "'hist level 3 file does not exist.' in e.args[0]"
   ]
  },
  {
   "cell_type": "code",
   "execution_count": null,
   "id": "fba4a3ef-e929-437b-bce8-4c048d5267b5",
   "metadata": {},
   "outputs": [],
   "source": []
  },
  {
   "cell_type": "code",
   "execution_count": null,
   "id": "a02176d0-99c1-4e17-9450-d4194b93678a",
   "metadata": {},
   "outputs": [],
   "source": []
  },
  {
   "cell_type": "code",
   "execution_count": null,
   "id": "c83414c8-9877-44cc-bc7e-b01e6b686639",
   "metadata": {},
   "outputs": [],
   "source": []
  }
 ],
 "metadata": {
  "kernelspec": {
   "display_name": "py310telg",
   "language": "python",
   "name": "py310telg"
  },
  "language_info": {
   "codemirror_mode": {
    "name": "ipython",
    "version": 3
   },
   "file_extension": ".py",
   "mimetype": "text/x-python",
   "name": "python",
   "nbconvert_exporter": "python",
   "pygments_lexer": "ipython3",
   "version": "3.10.13"
  }
 },
 "nbformat": 4,
 "nbformat_minor": 5
}
